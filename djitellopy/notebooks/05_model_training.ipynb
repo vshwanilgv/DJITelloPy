{
 "cells": [
  {
   "cell_type": "code",
   "execution_count": 4,
   "id": "ee8d761e",
   "metadata": {},
   "outputs": [],
   "source": [
    "import os, joblib, numpy as np, pandas as pd\n",
    "from pathlib import Path\n",
    "import matplotlib.pyplot as plt\n",
    "from sklearn.model_selection import train_test_split\n",
    "from sklearn.metrics import classification_report, confusion_matrix, accuracy_score, f1_score\n",
    "from sklearn.preprocessing import StandardScaler, LabelEncoder\n",
    "\n",
    "ROOT = Path(\"..\")   \n",
    "DATA_DIR = ROOT / \"data\"\n",
    "DATASET_DIR = ROOT / \"dataset\"\n",
    "MODELS_DIR = ROOT.parent / \"models\"  # project_root/models\n",
    "REPORTS_DIR = ROOT.parent / \"reports\"\n",
    "FIG_DIR = REPORTS_DIR / \"figures\"\n",
    "METRICS_DIR = REPORTS_DIR / \"metrics\"\n",
    "\n",
    "for p in (MODELS_DIR, REPORTS_DIR, FIG_DIR, METRICS_DIR):\n",
    "    os.makedirs(p, exist_ok=True)\n"
   ]
  },
  {
   "cell_type": "code",
   "execution_count": 5,
   "id": "90652fa1",
   "metadata": {},
   "outputs": [
    {
     "name": "stdout",
     "output_type": "stream",
     "text": [
      "Loading pre-saved splits from ../data\n",
      "Train/Val/Test sizes: 64 30 30\n"
     ]
    }
   ],
   "source": [
    "train_csv = DATA_DIR / \"train.csv\"\n",
    "val_csv   = DATA_DIR / \"val.csv\"\n",
    "test_csv  = DATA_DIR / \"test.csv\"\n",
    "processed_csv = DATASET_DIR / \"processed_logs.csv\" \n",
    "\n",
    "if train_csv.exists() and val_csv.exists() and test_csv.exists():\n",
    "    print(\"Loading pre-saved splits from\", DATA_DIR)\n",
    "    train_df = pd.read_csv(train_csv)\n",
    "    val_df   = pd.read_csv(val_csv)\n",
    "    test_df  = pd.read_csv(test_csv)\n",
    "else:\n",
    "    print(\"train/val/test not found — loading processed_logs.csv and creating splits\")\n",
    "    df = pd.read_csv(processed_csv)\n",
    "    \n",
    "    if \"flight_id\" in df.columns:\n",
    "        flights = df[\"flight_id\"].unique()\n",
    "        train_flights, rest = train_test_split(flights, test_size=0.3, random_state=42)\n",
    "        val_flights, test_flights = train_test_split(rest, test_size=0.5, random_state=42)\n",
    "        train_df = df[df[\"flight_id\"].isin(train_flights)].reset_index(drop=True)\n",
    "        val_df   = df[df[\"flight_id\"].isin(val_flights)].reset_index(drop=True)\n",
    "        test_df  = df[df[\"flight_id\"].isin(test_flights)].reset_index(drop=True)\n",
    "    else:\n",
    "        train_df, temp = train_test_split(df, test_size=0.3, random_state=42, stratify=df.get(\"action\"))\n",
    "        val_df, test_df = train_test_split(temp, test_size=0.5, random_state=42, stratify=temp.get(\"action\"))\n",
    "\n",
    "print(\"Train/Val/Test sizes:\", len(train_df), len(val_df), len(test_df))\n"
   ]
  },
  {
   "cell_type": "code",
   "execution_count": 6,
   "id": "6205dd7e",
   "metadata": {},
   "outputs": [
    {
     "name": "stdout",
     "output_type": "stream",
     "text": [
      "Using scaled feature columns (found _s): 13\n"
     ]
    },
    {
     "data": {
      "text/plain": [
       "['detected_s',\n",
       " 'x_s',\n",
       " 'y_s',\n",
       " 'w_s',\n",
       " 'h_s',\n",
       " 'bbox_area_s',\n",
       " 'aspect_ratio_s',\n",
       " 'height_s',\n",
       " 'speed_x_s',\n",
       " 'speed_y_s',\n",
       " 'speed_z_s',\n",
       " 'dx_s',\n",
       " 'dy_s']"
      ]
     },
     "execution_count": 6,
     "metadata": {},
     "output_type": "execute_result"
    }
   ],
   "source": [
    "def get_feature_cols(df):\n",
    "    \n",
    "    s_cols = [c for c in df.columns if c.endswith(\"_s\")]\n",
    "    if len(s_cols) >= 6:\n",
    "        print(\"Using scaled feature columns (found _s):\", len(s_cols))\n",
    "        return s_cols, True\n",
    "    \n",
    "    fallback = [\"confidence\",\"x\",\"y\",\"w\",\"h\",\"bbox_area\",\"aspect_ratio\",\n",
    "                \"height\",\"temp\",\"speed_x\",\"speed_y\",\"speed_z\",\"flight_time\",\"battery\"]\n",
    "    present = [c for c in fallback if c in df.columns]\n",
    "    print(\"Using fallback feature columns:\", present)\n",
    "    return present, False\n",
    "\n",
    "feature_cols, already_scaled = get_feature_cols(train_df)\n",
    "feature_cols\n"
   ]
  },
  {
   "cell_type": "code",
   "execution_count": 7,
   "id": "edc86af9",
   "metadata": {},
   "outputs": [
    {
     "name": "stdout",
     "output_type": "stream",
     "text": [
      "Columns already scaled; skipping scaler.\n",
      "Fitted and saved label encoder to models/label_encoder.joblib\n",
      "Final shapes (X_train, y_train): (64, 13) (64,)\n"
     ]
    }
   ],
   "source": [
    "\n",
    "def prepare_Xy(df, feature_cols):\n",
    "    X = df[feature_cols].copy()\n",
    "    y = df[\"action\"].copy() if \"action\" in df.columns else df[\"action_encoded\"].copy()\n",
    "    return X, y\n",
    "\n",
    "X_train_raw, y_train = prepare_Xy(train_df, feature_cols)\n",
    "X_val_raw, y_val     = prepare_Xy(val_df, feature_cols)\n",
    "X_test_raw, y_test   = prepare_Xy(test_df, feature_cols)\n",
    "\n",
    "# If features are already scaled (_s), skip scaler; else try to load scaler from models or fit one\n",
    "scaler_path = MODELS_DIR / \"scaler.joblib\"\n",
    "if already_scaled:\n",
    "    print(\"Columns already scaled; skipping scaler.\")\n",
    "    X_train = X_train_raw.values\n",
    "    X_val   = X_val_raw.values\n",
    "    X_test  = X_test_raw.values\n",
    "else:\n",
    "    # ensure numeric (fillna)\n",
    "    X_train_raw = X_train_raw.fillna(0.0)\n",
    "    X_val_raw = X_val_raw.fillna(0.0)\n",
    "    X_test_raw = X_test_raw.fillna(0.0)\n",
    "    if scaler_path.exists():\n",
    "        scaler = joblib.load(scaler_path)\n",
    "        print(\"Loaded existing scaler:\", scaler_path)\n",
    "    else:\n",
    "        from sklearn.preprocessing import StandardScaler\n",
    "        scaler = StandardScaler()\n",
    "        scaler.fit(X_train_raw)\n",
    "        joblib.dump(scaler, scaler_path)\n",
    "        print(\"Fitted new scaler and saved to\", scaler_path)\n",
    "    X_train = scaler.transform(X_train_raw)\n",
    "    X_val   = scaler.transform(X_val_raw)\n",
    "    X_test  = scaler.transform(X_test_raw)\n",
    "\n",
    "# Label encoder: ensure we have integer labels; save encoder\n",
    "le_path = MODELS_DIR / \"label_encoder.joblib\"\n",
    "if le_path.exists():\n",
    "    le = joblib.load(le_path)\n",
    "    # If y already encoded numeric, convert; else transform\n",
    "    if y_train.dtype.kind in \"iu\":  # already ints\n",
    "        y_train_enc = y_train.astype(int).values\n",
    "        y_val_enc   = y_val.astype(int).values\n",
    "        y_test_enc  = y_test.astype(int).values\n",
    "    else:\n",
    "        y_train_enc = le.transform(y_train)\n",
    "        y_val_enc   = le.transform(y_val)\n",
    "        y_test_enc  = le.transform(y_test)\n",
    "    print(\"Loaded label encoder\")\n",
    "else:\n",
    "    le = LabelEncoder()\n",
    "    # if y are numeric coded already we still fit on strings to be safe\n",
    "    y_train_enc = le.fit_transform(y_train)\n",
    "    y_val_enc   = le.transform(y_val)\n",
    "    y_test_enc  = le.transform(y_test)\n",
    "    joblib.dump(le, le_path)\n",
    "    print(\"Fitted and saved label encoder to\", le_path)\n",
    "\n",
    "print(\"Final shapes (X_train, y_train):\", X_train.shape, y_train_enc.shape)\n"
   ]
  },
  {
   "cell_type": "code",
   "execution_count": 8,
   "id": "2e1e48f7",
   "metadata": {},
   "outputs": [
    {
     "name": "stdout",
     "output_type": "stream",
     "text": [
      "XGBoost not available (fallback will be used): No module named 'xgboost'\n",
      "Models trained: ['LogisticRegression', 'RandomForest', 'HistGB']\n"
     ]
    }
   ],
   "source": [
    "# Train three baseline models\n",
    "from sklearn.linear_model import LogisticRegression\n",
    "from sklearn.ensemble import RandomForestClassifier\n",
    "try:\n",
    "    from xgboost import XGBClassifier\n",
    "    xgb_available = True\n",
    "except Exception as e:\n",
    "    print(\"XGBoost not available (fallback will be used):\", e)\n",
    "    xgb_available = False\n",
    "    from sklearn.ensemble import HistGradientBoostingClassifier\n",
    "\n",
    "models = {}\n",
    "\n",
    "# Logistic Regression\n",
    "lr = LogisticRegression(max_iter=1000, random_state=42)\n",
    "lr.fit(X_train, y_train_enc)\n",
    "models[\"LogisticRegression\"] = lr\n",
    "\n",
    "# Random Forest\n",
    "rf = RandomForestClassifier(n_estimators=200, random_state=42, n_jobs=-1)\n",
    "rf.fit(X_train, y_train_enc)\n",
    "models[\"RandomForest\"] = rf\n",
    "\n",
    "# XGBoost or fallback\n",
    "if xgb_available:\n",
    "    xgb = XGBClassifier(n_estimators=200, learning_rate=0.05, max_depth=6,\n",
    "                        use_label_encoder=False, eval_metric=\"mlogloss\", random_state=42)\n",
    "    xgb.fit(X_train, y_train_enc)\n",
    "    models[\"XGBoost\"] = xgb\n",
    "else:\n",
    "    hgb = HistGradientBoostingClassifier(random_state=42)\n",
    "    hgb.fit(X_train, y_train_enc)\n",
    "    models[\"HistGB\"] = hgb\n",
    "\n",
    "print(\"Models trained:\", list(models.keys()))\n"
   ]
  },
  {
   "cell_type": "code",
   "execution_count": 9,
   "id": "9fa33449",
   "metadata": {},
   "outputs": [
    {
     "name": "stdout",
     "output_type": "stream",
     "text": [
      "LogisticRegression — acc: 0.8333, f1(weighted): 0.8182, f1(macro): 0.3030\n",
      "              precision    recall  f1-score   support\n",
      "\n",
      "move_forward       0.89      0.93      0.91        27\n",
      "   move_left       0.00      0.00      0.00         2\n",
      "  move_right       0.00      0.00      0.00         1\n",
      "\n",
      "    accuracy                           0.83        30\n",
      "   macro avg       0.30      0.31      0.30        30\n",
      "weighted avg       0.80      0.83      0.82        30\n",
      "\n",
      "RandomForest — acc: 1.0000, f1(weighted): 1.0000, f1(macro): 1.0000\n",
      "              precision    recall  f1-score   support\n",
      "\n",
      "move_forward       1.00      1.00      1.00        27\n",
      "   move_left       1.00      1.00      1.00         2\n",
      "  move_right       1.00      1.00      1.00         1\n",
      "\n",
      "    accuracy                           1.00        30\n",
      "   macro avg       1.00      1.00      1.00        30\n",
      "weighted avg       1.00      1.00      1.00        30\n",
      "\n"
     ]
    },
    {
     "name": "stderr",
     "output_type": "stream",
     "text": [
      "/Users/vishwanibhagya/Development/Capturing Video/venv/lib/python3.9/site-packages/sklearn/metrics/_classification.py:1565: UndefinedMetricWarning: Precision is ill-defined and being set to 0.0 in labels with no predicted samples. Use `zero_division` parameter to control this behavior.\n",
      "  _warn_prf(average, modifier, f\"{metric.capitalize()} is\", len(result))\n",
      "/Users/vishwanibhagya/Development/Capturing Video/venv/lib/python3.9/site-packages/sklearn/metrics/_classification.py:1565: UndefinedMetricWarning: Precision is ill-defined and being set to 0.0 in labels with no predicted samples. Use `zero_division` parameter to control this behavior.\n",
      "  _warn_prf(average, modifier, f\"{metric.capitalize()} is\", len(result))\n",
      "/Users/vishwanibhagya/Development/Capturing Video/venv/lib/python3.9/site-packages/sklearn/metrics/_classification.py:1565: UndefinedMetricWarning: Precision is ill-defined and being set to 0.0 in labels with no predicted samples. Use `zero_division` parameter to control this behavior.\n",
      "  _warn_prf(average, modifier, f\"{metric.capitalize()} is\", len(result))\n",
      "/Users/vishwanibhagya/Development/Capturing Video/venv/lib/python3.9/site-packages/sklearn/metrics/_classification.py:1565: UndefinedMetricWarning: Precision is ill-defined and being set to 0.0 in labels with no predicted samples. Use `zero_division` parameter to control this behavior.\n",
      "  _warn_prf(average, modifier, f\"{metric.capitalize()} is\", len(result))\n",
      "/Users/vishwanibhagya/Development/Capturing Video/venv/lib/python3.9/site-packages/sklearn/metrics/_classification.py:1565: UndefinedMetricWarning: Precision is ill-defined and being set to 0.0 in labels with no predicted samples. Use `zero_division` parameter to control this behavior.\n",
      "  _warn_prf(average, modifier, f\"{metric.capitalize()} is\", len(result))\n",
      "/Users/vishwanibhagya/Development/Capturing Video/venv/lib/python3.9/site-packages/sklearn/metrics/_classification.py:1565: UndefinedMetricWarning: Precision is ill-defined and being set to 0.0 in labels with no predicted samples. Use `zero_division` parameter to control this behavior.\n",
      "  _warn_prf(average, modifier, f\"{metric.capitalize()} is\", len(result))\n"
     ]
    },
    {
     "name": "stdout",
     "output_type": "stream",
     "text": [
      "HistGB — acc: 0.7000, f1(weighted): 0.7578, f1(macro): 0.4759\n",
      "              precision    recall  f1-score   support\n",
      "\n",
      "move_forward       0.95      0.70      0.81        27\n",
      "   move_left       0.20      0.50      0.29         2\n",
      "  move_right       0.20      1.00      0.33         1\n",
      "\n",
      "    accuracy                           0.70        30\n",
      "   macro avg       0.45      0.73      0.48        30\n",
      "weighted avg       0.87      0.70      0.76        30\n",
      "\n"
     ]
    }
   ],
   "source": [
    "# Helper to evaluate & save results\n",
    "def evaluate_and_report(model, X, y_true, le, name, out_prefix=\"val\"):\n",
    "    y_pred = model.predict(X)\n",
    "    acc = accuracy_score(y_true, y_pred)\n",
    "    f1_w = f1_score(y_true, y_pred, average=\"weighted\")\n",
    "    f1_m = f1_score(y_true, y_pred, average=\"macro\")\n",
    "    print(f\"{name} — acc: {acc:.4f}, f1(weighted): {f1_w:.4f}, f1(macro): {f1_m:.4f}\")\n",
    "    # classification report (strings)\n",
    "    report = classification_report(y_true, y_pred, target_names=le.classes_, output_dict=False)\n",
    "    print(report)\n",
    "    # confusion matrix plot\n",
    "    cm = confusion_matrix(y_true, y_pred)\n",
    "    plt.figure(figsize=(6,5))\n",
    "    plt.imshow(cm, interpolation='nearest')\n",
    "    plt.colorbar()\n",
    "    ticks = np.arange(len(le.classes_))\n",
    "    plt.xticks(ticks, le.classes_, rotation=45)\n",
    "    plt.yticks(ticks, le.classes_)\n",
    "    plt.xlabel(\"Predicted\")\n",
    "    plt.ylabel(\"True\")\n",
    "    plt.title(f\"{name} Confusion ({out_prefix})\")\n",
    "    plt.tight_layout()\n",
    "    fig_path = FIG_DIR / f\"{out_prefix}_{name}_confusion.png\"\n",
    "    plt.savefig(fig_path)\n",
    "    plt.close()\n",
    "    # save metrics to csv\n",
    "    rep = classification_report(y_true, y_pred, target_names=le.classes_, output_dict=True)\n",
    "    pd.DataFrame(rep).transpose().to_csv(METRICS_DIR / f\"{out_prefix}_{name}_report.csv\")\n",
    "    return {\"acc\": acc, \"f1_weighted\": f1_w, \"f1_macro\": f1_m, \"report\": rep, \"cm_path\": str(fig_path)}\n",
    "\n",
    "# Evaluate on validation\n",
    "val_results = {}\n",
    "for name, model in models.items():\n",
    "    val_results[name] = evaluate_and_report(model, X_val, y_val_enc, le, name, out_prefix=\"val\")\n"
   ]
  },
  {
   "cell_type": "code",
   "execution_count": 10,
   "id": "f881865e",
   "metadata": {},
   "outputs": [
    {
     "name": "stdout",
     "output_type": "stream",
     "text": [
      "Best on validation: RandomForest f1_weighted= 1.0\n",
      "Saved LogisticRegression -> models/logisticregression.joblib\n",
      "Saved RandomForest -> models/randomforest.joblib\n",
      "Saved HistGB -> models/histgb.joblib\n",
      "Saved best model to models/best_model.joblib\n"
     ]
    }
   ],
   "source": [
    "# select best by weighted F1\n",
    "best_name = max(val_results.keys(), key=lambda k: val_results[k][\"f1_weighted\"])\n",
    "best_score = val_results[best_name][\"f1_weighted\"]\n",
    "print(\"Best on validation:\", best_name, \"f1_weighted=\", best_score)\n",
    "\n",
    "# Save each model to disk and also save the best as best_model.joblib\n",
    "for name, model in models.items():\n",
    "    path = MODELS_DIR / f\"{name.lower()}.joblib\"\n",
    "    joblib.dump(model, path)\n",
    "    print(\"Saved\", name, \"->\", path)\n",
    "\n",
    "best_model = models[best_name]\n",
    "best_path = MODELS_DIR / \"best_model.joblib\"\n",
    "joblib.dump(best_model, best_path)\n",
    "print(\"Saved best model to\", best_path)\n"
   ]
  },
  {
   "cell_type": "code",
   "execution_count": 11,
   "id": "0de59bee",
   "metadata": {},
   "outputs": [
    {
     "name": "stdout",
     "output_type": "stream",
     "text": [
      "RandomForest — acc: 0.9333, f1(weighted): 0.9282, f1(macro): 0.9182\n",
      "              precision    recall  f1-score   support\n",
      "\n",
      "move_forward       0.91      1.00      0.95        21\n",
      "   move_left       1.00      0.67      0.80         6\n",
      "  move_right       1.00      1.00      1.00         3\n",
      "\n",
      "    accuracy                           0.93        30\n",
      "   macro avg       0.97      0.89      0.92        30\n",
      "weighted avg       0.94      0.93      0.93        30\n",
      "\n",
      "Saved feature importance plot.\n",
      "Saved test metrics.\n"
     ]
    }
   ],
   "source": [
    "# Evaluate best model on test set\n",
    "test_metrics = evaluate_and_report(best_model, X_test, y_test_enc, le, best_name, out_prefix=\"test\")\n",
    "\n",
    "# Feature importance (if available)\n",
    "if hasattr(best_model, \"feature_importances_\"):\n",
    "    fi = best_model.feature_importances_\n",
    "    feat_names = feature_cols\n",
    "    # if we used scaled columns with suffix, strip _s for nicer labels\n",
    "    feat_labels = [c[:-2] if c.endswith(\"_s\") else c for c in feat_names]\n",
    "    idx = np.argsort(fi)[::-1]\n",
    "    plt.figure(figsize=(8,6))\n",
    "    plt.barh(np.array(feat_labels)[idx], fi[idx])\n",
    "    plt.title(f\"Feature importances ({best_name})\")\n",
    "    plt.tight_layout()\n",
    "    plt.savefig(FIG_DIR / f\"feature_importance_{best_name}.png\")\n",
    "    plt.close()\n",
    "    print(\"Saved feature importance plot.\")\n",
    "else:\n",
    "    print(\"Best model has no feature_importances_ attribute (e.g., LogisticRegression).\")\n",
    "    \n",
    "# Save test metrics summary\n",
    "import json\n",
    "with open(METRICS_DIR / f\"best_model_test_metrics.json\", \"w\") as fh:\n",
    "    json.dump(test_metrics, fh, indent=2)\n",
    "print(\"Saved test metrics.\")\n"
   ]
  },
  {
   "cell_type": "code",
   "execution_count": 12,
   "id": "18feecad",
   "metadata": {},
   "outputs": [
    {
     "name": "stdout",
     "output_type": "stream",
     "text": [
      "Saved inference pipeline metadata to models/inference_pipeline.joblib\n"
     ]
    }
   ],
   "source": [
    "# Save pipeline objects that you'll need at inference time\n",
    "joblib.dump(le, MODELS_DIR / \"label_encoder.joblib\")  # probably already saved\n",
    "if not already_scaled:\n",
    "    joblib.dump(joblib.load(scaler_path), MODELS_DIR / \"scaler.joblib\")\n",
    "# best_model already saved; we also store a simple pipeline dict\n",
    "pipeline = {\n",
    "    \"scaler_path\": str(MODELS_DIR / \"scaler.joblib\"),\n",
    "    \"label_encoder_path\": str(MODELS_DIR / \"label_encoder.joblib\"),\n",
    "    \"model_path\": str(MODELS_DIR / \"best_model.joblib\"),\n",
    "    \"feature_columns\": feature_cols\n",
    "}\n",
    "joblib.dump(pipeline, MODELS_DIR / \"inference_pipeline.joblib\")\n",
    "print(\"Saved inference pipeline metadata to models/inference_pipeline.joblib\")\n"
   ]
  },
  {
   "cell_type": "code",
   "execution_count": 13,
   "id": "b27bdb84",
   "metadata": {},
   "outputs": [
    {
     "name": "stdout",
     "output_type": "stream",
     "text": [
      "Tuning snippet provided (commented out). Run if you want to tune.\n"
     ]
    }
   ],
   "source": [
    "# Optional: quick example of RandomizedSearchCV for RF (uncomment and run if you want tuning)\n",
    "\"\"\"\n",
    "from sklearn.model_selection import RandomizedSearchCV\n",
    "param_dist = {\n",
    "    \"n_estimators\": [100,200,300,500],\n",
    "    \"max_depth\": [None, 10, 20, 30],\n",
    "    \"min_samples_leaf\": [1,2,4],\n",
    "    \"max_features\": [\"sqrt\",\"log2\", 0.5]\n",
    "}\n",
    "rs = RandomizedSearchCV(RandomForestClassifier(random_state=42), param_dist,\n",
    "                        n_iter=20, scoring=\"f1_weighted\", cv=3, n_jobs=-1, random_state=42, verbose=2)\n",
    "rs.fit(X_train, y_train_enc)\n",
    "print(\"RandomizedSearch best params:\", rs.best_params_)\n",
    "joblib.dump(rs.best_estimator_, MODELS_DIR / \"rf_tuned.joblib\")\n",
    "\"\"\"\n",
    "print(\"Tuning snippet provided (commented out). Run if you want to tune.\")\n"
   ]
  },
  {
   "cell_type": "code",
   "execution_count": 22,
   "id": "ea056364",
   "metadata": {},
   "outputs": [
    {
     "name": "stdout",
     "output_type": "stream",
     "text": [
      "Example usage: call predict_from_row with a dict containing features in ['detected_s', 'x_s', 'y_s', 'w_s', 'h_s', 'bbox_area_s', 'aspect_ratio_s', 'height_s', 'speed_x_s', 'speed_y_s', 'speed_z_s', 'dx_s', 'dy_s']\n"
     ]
    }
   ],
   "source": [
    "\n",
    "import joblib, numpy as np, pandas as pd\n",
    "pipeline = joblib.load(ROOT/\"notebooks/models/inference_pipeline.joblib\")\n",
    "\n",
    "model = joblib.load(pipeline[\"model_path\"])\n",
    "le = joblib.load(pipeline[\"label_encoder_path\"])\n",
    "scaler = joblib.load(pipeline[\"scaler_path\"])\n",
    "feat_cols = pipeline[\"feature_columns\"]\n",
    "\n",
    "def predict_from_row(row_dict):\n",
    "    # row_dict must include feature keys in feat_cols (raw numbers if scaler exists)\n",
    "    df = pd.DataFrame([row_dict])[feat_cols].fillna(0.0)\n",
    "    X = scaler.transform(df.values)\n",
    "    pred = model.predict(X)\n",
    "    return le.inverse_transform(pred)[0]\n",
    "\n",
    "print(\"Example usage: call predict_from_row with a dict containing features in\", feat_cols)\n"
   ]
  },
  {
   "cell_type": "code",
   "execution_count": null,
   "id": "72862cfe",
   "metadata": {},
   "outputs": [],
   "source": []
  }
 ],
 "metadata": {
  "kernelspec": {
   "display_name": "venv",
   "language": "python",
   "name": "python3"
  },
  "language_info": {
   "codemirror_mode": {
    "name": "ipython",
    "version": 3
   },
   "file_extension": ".py",
   "mimetype": "text/x-python",
   "name": "python",
   "nbconvert_exporter": "python",
   "pygments_lexer": "ipython3",
   "version": "3.9.6"
  }
 },
 "nbformat": 4,
 "nbformat_minor": 5
}
