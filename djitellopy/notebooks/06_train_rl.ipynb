{
 "cells": [
  {
   "cell_type": "code",
   "execution_count": 89,
   "id": "9bd2d05b",
   "metadata": {},
   "outputs": [
    {
     "name": "stdout",
     "output_type": "stream",
     "text": [
      "Initial state: [-0.8144878  -0.43223578  0.38586405  0.        ]\n",
      "Action=5, Obs=[-0.8144878  -0.33223578  0.38586405  0.        ], Reward=-0.1, Done=False\n",
      "Action=6, Obs=[-0.7644878  -0.33223578  0.38586405  0.        ], Reward=-0.1, Done=False\n",
      "Action=0, Obs=[-0.7644878  -0.33223578  0.43586406  0.        ], Reward=-0.1, Done=False\n",
      "Action=0, Obs=[-0.7644878  -0.33223578  0.48586407  0.        ], Reward=-0.1, Done=False\n",
      "Action=4, Obs=[-0.7644878  -0.43223578  0.48586407  0.        ], Reward=-0.1, Done=False\n",
      "Action=8, Obs=[-0.7644878  -0.43223578  0.48586407  0.        ], Reward=-0.1, Done=False\n",
      "Action=5, Obs=[-0.7644878  -0.33223578  0.48586407  0.        ], Reward=-0.1, Done=False\n",
      "Action=0, Obs=[-0.7644878  -0.33223578  0.53586406  0.        ], Reward=-0.1, Done=False\n",
      "Action=4, Obs=[-0.7644878  -0.43223578  0.53586406  0.        ], Reward=-0.1, Done=False\n",
      "Action=5, Obs=[-0.7644878  -0.33223578  0.53586406  0.        ], Reward=-0.1, Done=False\n"
     ]
    }
   ],
   "source": [
    "# import sys, os\n",
    "\n",
    "# sys.path.append(os.path.abspath(\"..\"))\n",
    "from envs.drone_env import DroneFollowEnv\n",
    "\n",
    "env = DroneFollowEnv()\n",
    "\n",
    "obs = env.reset()\n",
    "print(\"Initial state:\", obs)\n",
    "\n",
    "for _ in range(10):\n",
    "    action = env.action_space.sample()\n",
    "    obs, reward, done, _ = env.step(action)\n",
    "    print(f\"Action={action}, Obs={obs}, Reward={reward}, Done={done}\")\n",
    "    if done:\n",
    "        break\n"
   ]
  },
  {
   "cell_type": "code",
   "execution_count": 79,
   "id": "e3a9c1b0",
   "metadata": {},
   "outputs": [
    {
     "name": "stdout",
     "output_type": "stream",
     "text": [
      "obs, reward, term, trunc: [ 0.02 -0.03  0.75  0.  ] 9.9 False {}\n"
     ]
    }
   ],
   "source": [
    "import numpy as np\n",
    "env.state = np.array([0.02, -0.03, 0.75, 0.0], dtype=np.float32)   # dx~0, dy~0, bbox_size > 0.7\n",
    "obs, reward, terminated, truncated = env.step(8)  # hover\n",
    "print(\"obs, reward, term, trunc:\", obs, reward, terminated, truncated)\n"
   ]
  },
  {
   "cell_type": "code",
   "execution_count": 88,
   "id": "bb64d2cc",
   "metadata": {},
   "outputs": [
    {
     "name": "stdout",
     "output_type": "stream",
     "text": [
      "terminated: False reward: -0.1\n"
     ]
    }
   ],
   "source": [
    "env.state = np.array([0.5, 0.5, 0.01, 0.0], dtype=np.float32)  # tiny bbox_size -> human lost\n",
    "obs, reward, terminated, truncated = env.step(8)\n",
    "print(\"terminated:\", terminated, \"reward:\", reward)\n"
   ]
  }
 ],
 "metadata": {
  "kernelspec": {
   "display_name": "venv",
   "language": "python",
   "name": "python3"
  },
  "language_info": {
   "codemirror_mode": {
    "name": "ipython",
    "version": 3
   },
   "file_extension": ".py",
   "mimetype": "text/x-python",
   "name": "python",
   "nbconvert_exporter": "python",
   "pygments_lexer": "ipython3",
   "version": "3.9.6"
  }
 },
 "nbformat": 4,
 "nbformat_minor": 5
}
