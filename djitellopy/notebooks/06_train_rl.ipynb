{
 "cells": [
  {
   "cell_type": "code",
   "execution_count": 78,
   "id": "9bd2d05b",
   "metadata": {},
   "outputs": [
    {
     "name": "stdout",
     "output_type": "stream",
     "text": [
      "Initial state: [ 0.71137285 -0.15973002  0.4372493   0.        ]\n",
      "Action=5, Obs=[ 0.71137285 -0.05973002  0.4372493   0.        ], Reward=-0.1, Done=False\n",
      "Action=6, Obs=[ 0.76137286 -0.05973002  0.4372493   0.        ], Reward=-0.1, Done=False\n",
      "Action=3, Obs=[ 0.8613729  -0.05973002  0.4372493   0.        ], Reward=-0.1, Done=False\n",
      "Action=8, Obs=[ 0.8613729  -0.05973002  0.4372493   0.        ], Reward=-0.1, Done=False\n",
      "Action=1, Obs=[ 0.8613729  -0.05973002  0.3872493   0.        ], Reward=-0.1, Done=False\n",
      "Action=7, Obs=[ 0.8113729  -0.05973002  0.3872493   0.        ], Reward=-0.1, Done=False\n",
      "Action=2, Obs=[ 0.71137285 -0.05973002  0.3872493   0.        ], Reward=-0.1, Done=False\n",
      "Action=2, Obs=[ 0.6113728  -0.05973002  0.3872493   0.        ], Reward=-0.1, Done=False\n",
      "Action=2, Obs=[ 0.5113728  -0.05973002  0.3872493   0.        ], Reward=-0.1, Done=False\n",
      "Action=4, Obs=[ 0.5113728  -0.15973002  0.3872493   0.        ], Reward=-0.1, Done=False\n"
     ]
    }
   ],
   "source": [
    "# import sys, os\n",
    "\n",
    "# sys.path.append(os.path.abspath(\"..\"))\n",
    "from envs.drone_env import DroneFollowEnv\n",
    "\n",
    "env = DroneFollowEnv()\n",
    "\n",
    "obs = env.reset()\n",
    "print(\"Initial state:\", obs)\n",
    "\n",
    "for _ in range(10):\n",
    "    action = env.action_space.sample()\n",
    "    obs, reward, done, _ = env.step(action)\n",
    "    print(f\"Action={action}, Obs={obs}, Reward={reward}, Done={done}\")\n",
    "    if done:\n",
    "        break\n"
   ]
  },
  {
   "cell_type": "code",
   "execution_count": 79,
   "id": "e3a9c1b0",
   "metadata": {},
   "outputs": [
    {
     "name": "stdout",
     "output_type": "stream",
     "text": [
      "obs, reward, term, trunc: [ 0.02 -0.03  0.75  0.  ] 9.9 False {}\n"
     ]
    }
   ],
   "source": [
    "import numpy as np\n",
    "env.state = np.array([0.02, -0.03, 0.75, 0.0], dtype=np.float32)   # dx~0, dy~0, bbox_size > 0.7\n",
    "obs, reward, terminated, truncated = env.step(8)  # hover\n",
    "print(\"obs, reward, term, trunc:\", obs, reward, terminated, truncated)\n"
   ]
  },
  {
   "cell_type": "code",
   "execution_count": 82,
   "id": "bb64d2cc",
   "metadata": {},
   "outputs": [
    {
     "name": "stdout",
     "output_type": "stream",
     "text": [
      "terminated: False reward: -0.1\n"
     ]
    }
   ],
   "source": [
    "env.state = np.array([0.5, 0.5, 0.01, 0.0], dtype=np.float32)  # tiny bbox_size -> human lost\n",
    "obs, reward, terminated, truncated = env.step(8)\n",
    "print(\"terminated:\", terminated, \"reward:\", reward)\n"
   ]
  },
  {
   "cell_type": "code",
   "execution_count": null,
   "id": "fcb8c4b6",
   "metadata": {},
   "outputs": [
    {
     "ename": "ValueError",
     "evalue": "too many values to unpack (expected 2)",
     "output_type": "error",
     "traceback": [
      "\u001b[0;31m---------------------------------------------------------------------------\u001b[0m",
      "\u001b[0;31mValueError\u001b[0m                                Traceback (most recent call last)",
      "Cell \u001b[0;32mIn[80], line 1\u001b[0m\n\u001b[0;32m----> 1\u001b[0m obs, info \u001b[38;5;241m=\u001b[39m env\u001b[38;5;241m.\u001b[39mreset()\n\u001b[1;32m      2\u001b[0m \u001b[38;5;28mprint\u001b[39m(\u001b[38;5;124m\"\u001b[39m\u001b[38;5;124mInitial state:\u001b[39m\u001b[38;5;124m\"\u001b[39m, obs)\n\u001b[1;32m      4\u001b[0m done \u001b[38;5;241m=\u001b[39m \u001b[38;5;28;01mFalse\u001b[39;00m\n",
      "\u001b[0;31mValueError\u001b[0m: too many values to unpack (expected 2)"
     ]
    }
   ],
   "source": [
    "obs, info = env.reset()\n",
    "print(\"Initial state:\", obs)\n",
    "\n",
    "done = False\n",
    "while not done:\n",
    "    action = env.action_space.sample()\n",
    "    obs, reward, terminated, truncated, info = env.step(action)\n",
    "    print(f\"obs: {obs}, reward: {reward:.2f}, terminated: {terminated}, truncated: {truncated}\")\n",
    "    done = terminated or truncated\n",
    "\n",
    "env.close()\n",
    "\n"
   ]
  },
  {
   "cell_type": "code",
   "execution_count": 77,
   "id": "f0c11d71",
   "metadata": {},
   "outputs": [
    {
     "ename": "ValueError",
     "evalue": "too many values to unpack (expected 2)",
     "output_type": "error",
     "traceback": [
      "\u001b[0;31m---------------------------------------------------------------------------\u001b[0m",
      "\u001b[0;31mValueError\u001b[0m                                Traceback (most recent call last)",
      "Cell \u001b[0;32mIn[77], line 5\u001b[0m\n\u001b[1;32m      3\u001b[0m \u001b[38;5;66;03m# Create environment\u001b[39;00m\n\u001b[1;32m      4\u001b[0m env \u001b[38;5;241m=\u001b[39m DroneFollowEnv()\n\u001b[0;32m----> 5\u001b[0m obs, info \u001b[38;5;241m=\u001b[39m env\u001b[38;5;241m.\u001b[39mreset()\n\u001b[1;32m      6\u001b[0m \u001b[38;5;28mprint\u001b[39m(\u001b[38;5;124m\"\u001b[39m\u001b[38;5;124mobs:\u001b[39m\u001b[38;5;124m\"\u001b[39m, obs, \u001b[38;5;124m\"\u001b[39m\u001b[38;5;124minfo:\u001b[39m\u001b[38;5;124m\"\u001b[39m, info)\n",
      "\u001b[0;31mValueError\u001b[0m: too many values to unpack (expected 2)"
     ]
    }
   ],
   "source": [
    "from envs.drone_env import DroneFollowEnv\n",
    "\n",
    "# Create environment\n",
    "env = DroneFollowEnv()\n",
    "obs, info = env.reset()\n",
    "print(\"obs:\", obs, \"info:\", info)\n",
    "\n"
   ]
  }
 ],
 "metadata": {
  "kernelspec": {
   "display_name": "venv",
   "language": "python",
   "name": "python3"
  },
  "language_info": {
   "codemirror_mode": {
    "name": "ipython",
    "version": 3
   },
   "file_extension": ".py",
   "mimetype": "text/x-python",
   "name": "python",
   "nbconvert_exporter": "python",
   "pygments_lexer": "ipython3",
   "version": "3.9.6"
  }
 },
 "nbformat": 4,
 "nbformat_minor": 5
}
